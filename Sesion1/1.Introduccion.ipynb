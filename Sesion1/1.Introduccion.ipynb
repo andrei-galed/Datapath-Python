{
 "cells": [
  {
   "cell_type": "code",
   "execution_count": 2,
   "metadata": {},
   "outputs": [
    {
     "name": "stdout",
     "output_type": "stream",
     "text": [
      "es false\n"
     ]
    }
   ],
   "source": [
    "var1 = 6\n",
    "\n",
    "if var1 == '6':\n",
    "    print(\"Es verdadero\")\n",
    "    print(\"Ingreso\")\n",
    "else:\n",
    "    print(\"es false\")"
   ]
  },
  {
   "cell_type": "code",
   "execution_count": 3,
   "metadata": {},
   "outputs": [
    {
     "name": "stdout",
     "output_type": "stream",
     "text": [
      "Hola mundo\n"
     ]
    }
   ],
   "source": [
    "#Esto es un comentario \n",
    "print(\"Hola mundo\")"
   ]
  },
  {
   "cell_type": "code",
   "execution_count": 4,
   "metadata": {},
   "outputs": [
    {
     "name": "stdout",
     "output_type": "stream",
     "text": [
      "5\n",
      "DATAPATH\n"
     ]
    }
   ],
   "source": [
    "#variables \n",
    "\n",
    "a = 5 #int\n",
    "b = 'DATAPATH' #String\n",
    "print(a)\n",
    "print(b)\n"
   ]
  },
  {
   "cell_type": "code",
   "execution_count": 5,
   "metadata": {},
   "outputs": [
    {
     "data": {
      "text/plain": [
       "int"
      ]
     },
     "execution_count": 5,
     "metadata": {},
     "output_type": "execute_result"
    }
   ],
   "source": [
    "type(a)\n"
   ]
  },
  {
   "cell_type": "code",
   "execution_count": 6,
   "metadata": {},
   "outputs": [
    {
     "data": {
      "text/plain": [
       "float"
      ]
     },
     "execution_count": 6,
     "metadata": {},
     "output_type": "execute_result"
    }
   ],
   "source": [
    "c = 2.0\n",
    "type(c)"
   ]
  },
  {
   "cell_type": "code",
   "execution_count": 7,
   "metadata": {},
   "outputs": [],
   "source": [
    "x, y, z = \"Manzana\",\"Platano\",\"fresa\""
   ]
  },
  {
   "cell_type": "code",
   "execution_count": 8,
   "metadata": {},
   "outputs": [],
   "source": [
    "#tipos de datos \n"
   ]
  },
  {
   "cell_type": "code",
   "execution_count": 9,
   "metadata": {},
   "outputs": [],
   "source": [
    "#Tipod de datos \n",
    "#String\n",
    "\n",
    "var1=  \"manzana\"\n",
    "var = 'Manzana'"
   ]
  },
  {
   "cell_type": "code",
   "execution_count": 12,
   "metadata": {},
   "outputs": [
    {
     "name": "stdout",
     "output_type": "stream",
     "text": [
      "manzana\n",
      "m\n"
     ]
    }
   ],
   "source": [
    "print(var1)\n",
    "print(var1[0])"
   ]
  },
  {
   "cell_type": "code",
   "execution_count": 13,
   "metadata": {},
   "outputs": [],
   "source": [
    "#Numericos \n",
    "int_num = 10 \n",
    "Float_num = 10.5\n",
    "complex_num = 3.14j"
   ]
  },
  {
   "cell_type": "code",
   "execution_count": 15,
   "metadata": {},
   "outputs": [],
   "source": [
    "#Listas \n",
    "\n",
    "list_1 = []\n",
    "\n",
    "list_2 = [1,2,3,4,5]\n",
    "\n",
    "list_3 = ['manzana','platano']\n",
    "\n",
    "list_4 = [1,2,'Manzana',1.4]"
   ]
  },
  {
   "cell_type": "code",
   "execution_count": 16,
   "metadata": {},
   "outputs": [
    {
     "name": "stdout",
     "output_type": "stream",
     "text": [
      "['manzana', [1, 2, 3], ['a', 'b']]\n"
     ]
    }
   ],
   "source": [
    "list_5 = ['manzana',[1,2,3],['a','b']]\n",
    "print(list_5)"
   ]
  },
  {
   "cell_type": "code",
   "execution_count": 17,
   "metadata": {},
   "outputs": [],
   "source": [
    "list_6 = ['x','y','z',['a','b',1,2]]"
   ]
  },
  {
   "cell_type": "code",
   "execution_count": 26,
   "metadata": {},
   "outputs": [
    {
     "name": "stdout",
     "output_type": "stream",
     "text": [
      "1\n"
     ]
    }
   ],
   "source": [
    "print(list_6[3][2])"
   ]
  },
  {
   "cell_type": "code",
   "execution_count": 27,
   "metadata": {},
   "outputs": [
    {
     "name": "stdout",
     "output_type": "stream",
     "text": [
      "['y', 'z']\n"
     ]
    }
   ],
   "source": [
    "#Slices\n",
    "\n",
    "print(list_6[1:3])"
   ]
  },
  {
   "cell_type": "code",
   "execution_count": 28,
   "metadata": {},
   "outputs": [
    {
     "name": "stdout",
     "output_type": "stream",
     "text": [
      "['z', ['a', 'b', 1, 2]]\n"
     ]
    }
   ],
   "source": [
    "print(list_6[2:])"
   ]
  },
  {
   "cell_type": "code",
   "execution_count": 29,
   "metadata": {},
   "outputs": [
    {
     "name": "stdout",
     "output_type": "stream",
     "text": [
      "['w', 'y', 'z', ['a', 'b', 1, 2]]\n"
     ]
    }
   ],
   "source": [
    "list_6[0] = 'w'\n",
    "print(list_6)"
   ]
  },
  {
   "cell_type": "code",
   "execution_count": 30,
   "metadata": {},
   "outputs": [
    {
     "name": "stdout",
     "output_type": "stream",
     "text": [
      "[1, 2, 3, ['a', 'b', 1, 2]]\n"
     ]
    }
   ],
   "source": [
    "list_6[0:3] = [1,2,3]\n",
    "print(list_6)"
   ]
  },
  {
   "cell_type": "code",
   "execution_count": 32,
   "metadata": {},
   "outputs": [
    {
     "name": "stdout",
     "output_type": "stream",
     "text": [
      "[1, 2, 3, ['a', 'b', 1, 2], 'm', ['b', 'n']]\n"
     ]
    }
   ],
   "source": [
    "#append \n",
    "list_6.append(['b','n'])\n",
    "print(list_6)"
   ]
  },
  {
   "cell_type": "code",
   "execution_count": 34,
   "metadata": {},
   "outputs": [
    {
     "name": "stdout",
     "output_type": "stream",
     "text": [
      "[1, 2, 3, ['a', 'b', 1, 2], 'm', ['b', 'n'], 'b', 'n', 'b', 'n']\n"
     ]
    }
   ],
   "source": [
    "#Extend\n",
    "list_6.extend(['b','n'])\n",
    "print(list_6)"
   ]
  },
  {
   "cell_type": "code",
   "execution_count": 35,
   "metadata": {},
   "outputs": [
    {
     "name": "stdout",
     "output_type": "stream",
     "text": [
      "1\n",
      "2\n",
      "3\n",
      "['a', 'b', 1, 2]\n",
      "m\n",
      "['b', 'n']\n",
      "b\n",
      "n\n",
      "b\n",
      "n\n"
     ]
    }
   ],
   "source": [
    "for element in list_6:\n",
    "    print(element)"
   ]
  },
  {
   "cell_type": "code",
   "execution_count": 36,
   "metadata": {},
   "outputs": [],
   "source": [
    "#Tuplas \n",
    "\n",
    "tupla_1 = ()"
   ]
  },
  {
   "cell_type": "code",
   "execution_count": 38,
   "metadata": {},
   "outputs": [
    {
     "name": "stdout",
     "output_type": "stream",
     "text": [
      "(1, 2, 3)\n"
     ]
    }
   ],
   "source": [
    "tupla_2 = (1,2,3)\n",
    "print(tupla_2)"
   ]
  },
  {
   "cell_type": "code",
   "execution_count": 39,
   "metadata": {},
   "outputs": [
    {
     "name": "stdout",
     "output_type": "stream",
     "text": [
      "(1, 2, 'Manzana', 5.4)\n"
     ]
    }
   ],
   "source": [
    "tupla_3 = (1,2,\"Manzana\",5.4)\n",
    "print(tupla_3)"
   ]
  },
  {
   "cell_type": "code",
   "execution_count": 40,
   "metadata": {},
   "outputs": [
    {
     "name": "stdout",
     "output_type": "stream",
     "text": [
      "((1, 2, 3), [2, 3, 4], 5)\n"
     ]
    }
   ],
   "source": [
    "tupla_4 = ((1,2,3),[2,3,4],5)\n",
    "print(tupla_4)"
   ]
  },
  {
   "cell_type": "code",
   "execution_count": 41,
   "metadata": {},
   "outputs": [
    {
     "data": {
      "text/plain": [
       "tuple"
      ]
     },
     "execution_count": 41,
     "metadata": {},
     "output_type": "execute_result"
    }
   ],
   "source": [
    "type(tupla_4)"
   ]
  },
  {
   "cell_type": "code",
   "execution_count": 42,
   "metadata": {},
   "outputs": [
    {
     "data": {
      "text/plain": [
       "str"
      ]
     },
     "execution_count": 42,
     "metadata": {},
     "output_type": "execute_result"
    }
   ],
   "source": [
    "tupla_5 = ('manzana')\n",
    "type(tupla_5)"
   ]
  },
  {
   "cell_type": "code",
   "execution_count": 44,
   "metadata": {},
   "outputs": [
    {
     "data": {
      "text/plain": [
       "tuple"
      ]
     },
     "execution_count": 44,
     "metadata": {},
     "output_type": "execute_result"
    }
   ],
   "source": [
    "tupla_6 = ('manzana',)\n",
    "type(tupla_6)"
   ]
  },
  {
   "cell_type": "code",
   "execution_count": 45,
   "metadata": {},
   "outputs": [
    {
     "name": "stdout",
     "output_type": "stream",
     "text": [
      "3\n"
     ]
    }
   ],
   "source": [
    "print(tupla_4[1][1])"
   ]
  },
  {
   "cell_type": "code",
   "execution_count": 46,
   "metadata": {},
   "outputs": [
    {
     "name": "stdout",
     "output_type": "stream",
     "text": [
      "([2, 3, 4], 5)\n"
     ]
    }
   ],
   "source": [
    "print(tupla_4[1:3])"
   ]
  },
  {
   "cell_type": "code",
   "execution_count": 47,
   "metadata": {},
   "outputs": [
    {
     "name": "stdout",
     "output_type": "stream",
     "text": [
      "Juan\n",
      "pedro\n"
     ]
    }
   ],
   "source": [
    "for nombre in 'Juan','pedro':\n",
    "    print(nombre)"
   ]
  },
  {
   "cell_type": "code",
   "execution_count": null,
   "metadata": {},
   "outputs": [],
   "source": [
    "#cuando usar una lista o tupla depende de si quieres o no modificar los datos, las tuplas no pueden modificar los datos. \n",
    "Una tupla itera mas rapido que una lista "
   ]
  },
  {
   "cell_type": "code",
   "execution_count": 48,
   "metadata": {},
   "outputs": [],
   "source": [
    "#diccionario \n",
    "#\n",
    "#{\n",
    "#'nombre' : 'juan',\n",
    "#'apellido': 'perez'\n",
    "#}\n",
    "\n",
    "dict_1 = {}\n",
    "dict_2 = {1: 'manzana', 2: 'Pera'}\n",
    "dict_3 = {'nombre': 'Juan', 'apellido': 'Perez'}\n",
    "dict_4 = {1: [12,14,15], \"nombre\": \"juan\"}"
   ]
  },
  {
   "cell_type": "code",
   "execution_count": 49,
   "metadata": {},
   "outputs": [
    {
     "name": "stdout",
     "output_type": "stream",
     "text": [
      "{1: [12, 14, 15], 'nombre': 'juan'}\n"
     ]
    }
   ],
   "source": [
    "print(dict_4)"
   ]
  },
  {
   "cell_type": "code",
   "execution_count": 51,
   "metadata": {},
   "outputs": [
    {
     "name": "stdout",
     "output_type": "stream",
     "text": [
      "Perez\n"
     ]
    }
   ],
   "source": [
    "print(dict_3['apellido'])"
   ]
  },
  {
   "cell_type": "code",
   "execution_count": 52,
   "metadata": {},
   "outputs": [],
   "source": [
    "dict_5 = {'nombre': 'Juan', 'edad': 25}"
   ]
  },
  {
   "cell_type": "code",
   "execution_count": 53,
   "metadata": {},
   "outputs": [
    {
     "name": "stdout",
     "output_type": "stream",
     "text": [
      "Juan\n",
      "Juan\n"
     ]
    }
   ],
   "source": [
    "print(dict_5['nombre'])\n",
    "print(dict_5.get('nombre'))"
   ]
  },
  {
   "cell_type": "code",
   "execution_count": 55,
   "metadata": {},
   "outputs": [
    {
     "ename": "KeyError",
     "evalue": "'nom'",
     "output_type": "error",
     "traceback": [
      "\u001b[0;31m---------------------------------------------------------------------------\u001b[0m",
      "\u001b[0;31mKeyError\u001b[0m                                  Traceback (most recent call last)",
      "Cell \u001b[0;32mIn[55], line 1\u001b[0m\n\u001b[0;32m----> 1\u001b[0m \u001b[38;5;28mprint\u001b[39m(\u001b[43mdict_5\u001b[49m\u001b[43m[\u001b[49m\u001b[38;5;124;43m'\u001b[39;49m\u001b[38;5;124;43mnom\u001b[39;49m\u001b[38;5;124;43m'\u001b[39;49m\u001b[43m]\u001b[49m)\n",
      "\u001b[0;31mKeyError\u001b[0m: 'nom'"
     ]
    }
   ],
   "source": [
    "print(dict_5['nom'])\n"
   ]
  },
  {
   "cell_type": "code",
   "execution_count": 56,
   "metadata": {},
   "outputs": [
    {
     "name": "stdout",
     "output_type": "stream",
     "text": [
      "None\n"
     ]
    }
   ],
   "source": [
    "print(dict_5.get('nom'))"
   ]
  },
  {
   "cell_type": "code",
   "execution_count": 57,
   "metadata": {},
   "outputs": [
    {
     "name": "stdout",
     "output_type": "stream",
     "text": [
      "{'nombre': 'Juan', 'edad': 28}\n"
     ]
    }
   ],
   "source": [
    "dict_5['edad'] = 28\n",
    "print(dict_5)"
   ]
  },
  {
   "cell_type": "code",
   "execution_count": 58,
   "metadata": {},
   "outputs": [
    {
     "name": "stdout",
     "output_type": "stream",
     "text": [
      "{'nombre': 'Juan', 'edad': 28, 'direccion': 'Lima'}\n"
     ]
    }
   ],
   "source": [
    "dict_5['direccion'] = 'Lima'\n",
    "print(dict_5)"
   ]
  },
  {
   "cell_type": "code",
   "execution_count": 59,
   "metadata": {},
   "outputs": [
    {
     "name": "stdout",
     "output_type": "stream",
     "text": [
      "nombre\n",
      "edad\n",
      "direccion\n"
     ]
    }
   ],
   "source": [
    "for elemento in dict_5:\n",
    "    print(elemento)"
   ]
  },
  {
   "cell_type": "code",
   "execution_count": 60,
   "metadata": {},
   "outputs": [
    {
     "name": "stdout",
     "output_type": "stream",
     "text": [
      "Juan\n",
      "28\n",
      "Lima\n"
     ]
    }
   ],
   "source": [
    "for elemento in dict_5:\n",
    "    print(dict_5[elemento])"
   ]
  },
  {
   "cell_type": "code",
   "execution_count": 61,
   "metadata": {},
   "outputs": [
    {
     "name": "stdout",
     "output_type": "stream",
     "text": [
      "nombre -> Juan\n",
      "edad -> 28\n",
      "direccion -> Lima\n"
     ]
    }
   ],
   "source": [
    "for key in dict_5:\n",
    "    print(key, '->',dict_5[key])"
   ]
  },
  {
   "cell_type": "code",
   "execution_count": 62,
   "metadata": {},
   "outputs": [
    {
     "name": "stdout",
     "output_type": "stream",
     "text": [
      "5 es mayor que 0\n",
      "Se imprime siemore\n"
     ]
    }
   ],
   "source": [
    "#Control de flujo \n",
    "\n",
    "#if \n",
    "\n",
    "num = 5\n",
    "\n",
    "if num > 0:\n",
    "    print(num,'es mayor que 0')\n",
    "else: \n",
    "    print(num,'es negativo')\n",
    "\n",
    "print('Se imprime siemore')"
   ]
  },
  {
   "cell_type": "code",
   "execution_count": 64,
   "metadata": {},
   "outputs": [
    {
     "name": "stdout",
     "output_type": "stream",
     "text": [
      "el numero es positivo\n"
     ]
    }
   ],
   "source": [
    "num = float(input('ingresa un numero'))\n",
    "\n",
    "if num >= 0:\n",
    "    if num == 0:\n",
    "        print('el numero es cero')\n",
    "    else: \n",
    "            print('el numero es positivo')\n",
    "else: \n",
    "    print('el numero es negativo')\n"
   ]
  },
  {
   "cell_type": "code",
   "execution_count": 66,
   "metadata": {},
   "outputs": [
    {
     "name": "stdout",
     "output_type": "stream",
     "text": [
      "1\n",
      "3\n",
      "6\n",
      "10\n",
      "15\n"
     ]
    }
   ],
   "source": [
    "numeros = [1,2,3,4,5]\n",
    "suma = 0\n",
    "aux = 0\n",
    "for num in numeros:\n",
    "    suma = suma + num\n",
    "    print(suma)"
   ]
  },
  {
   "cell_type": "code",
   "execution_count": 68,
   "metadata": {},
   "outputs": [
    {
     "name": "stdout",
     "output_type": "stream",
     "text": [
      "la suma es ifual a 55\n"
     ]
    }
   ],
   "source": [
    "n = 10\n",
    "suma = 0\n",
    "i = 1\n",
    "while i <= n :\n",
    "    suma = suma + i\n",
    "    i = i + 1\n",
    "\n",
    "print( 'la suma es ifual a', suma)"
   ]
  },
  {
   "cell_type": "code",
   "execution_count": 69,
   "metadata": {},
   "outputs": [
    {
     "name": "stdout",
     "output_type": "stream",
     "text": [
      "M\n"
     ]
    }
   ],
   "source": [
    "for val in 'Manzana':\n",
    "    if val == 'a':\n",
    "        break\n",
    "    print(val)"
   ]
  },
  {
   "cell_type": "code",
   "execution_count": 70,
   "metadata": {},
   "outputs": [
    {
     "name": "stdout",
     "output_type": "stream",
     "text": [
      "M\n",
      "a\n",
      "n\n",
      "z\n",
      "a\n",
      "n\n",
      "a\n"
     ]
    }
   ],
   "source": [
    "for val in 'Manzana':\n",
    "    if val == 'a':\n",
    "        pass\n",
    "    print(val)"
   ]
  },
  {
   "cell_type": "code",
   "execution_count": 71,
   "metadata": {},
   "outputs": [],
   "source": [
    "try:\n",
    "    pass\n",
    "except Exception as e:\n",
    "    print('error')\n",
    "    printU(e)"
   ]
  },
  {
   "cell_type": "code",
   "execution_count": 73,
   "metadata": {},
   "outputs": [
    {
     "name": "stdout",
     "output_type": "stream",
     "text": [
      "Try\n",
      "error\n",
      "division by zero\n"
     ]
    }
   ],
   "source": [
    "try:\n",
    "    print('Try')\n",
    "    b = 5/0\n",
    "except Exception as e:\n",
    "    print('error')\n",
    "    print(e)"
   ]
  },
  {
   "cell_type": "code",
   "execution_count": 74,
   "metadata": {},
   "outputs": [],
   "source": [
    "suma = suma + i \n",
    "suma += i"
   ]
  },
  {
   "cell_type": "code",
   "execution_count": 75,
   "metadata": {},
   "outputs": [
    {
     "data": {
      "text/plain": [
       "8"
      ]
     },
     "execution_count": 75,
     "metadata": {},
     "output_type": "execute_result"
    }
   ],
   "source": [
    "#FUNCIONES\n",
    "\n",
    "def mi_funcion(x):\n",
    "    return 2*x\n",
    "\n",
    "mi_funcion(4)"
   ]
  },
  {
   "cell_type": "code",
   "execution_count": 76,
   "metadata": {},
   "outputs": [
    {
     "data": {
      "text/plain": [
       "'Hello'"
      ]
     },
     "execution_count": 76,
     "metadata": {},
     "output_type": "execute_result"
    }
   ],
   "source": [
    "def greeting():\n",
    "    return 'Hello'\n",
    "\n",
    "greeting()"
   ]
  },
  {
   "cell_type": "code",
   "execution_count": 78,
   "metadata": {},
   "outputs": [],
   "source": [
    "def read_table(tabla):\n",
    "    query = f\"SELECT * FROM {tabla}\"\n",
    "\n",
    "    return execute_query(query)"
   ]
  },
  {
   "cell_type": "code",
   "execution_count": 79,
   "metadata": {},
   "outputs": [
    {
     "name": "stdout",
     "output_type": "stream",
     "text": [
      "hola\n"
     ]
    }
   ],
   "source": [
    "saludo = lambda: 'hola'\n",
    "\n",
    "print(saludo())"
   ]
  },
  {
   "cell_type": "code",
   "execution_count": 81,
   "metadata": {},
   "outputs": [
    {
     "name": "stdout",
     "output_type": "stream",
     "text": [
      "7\n"
     ]
    }
   ],
   "source": [
    "suma = lambda a,b: a+b\n",
    "print(suma(2,5))"
   ]
  },
  {
   "cell_type": "code",
   "execution_count": 82,
   "metadata": {},
   "outputs": [
    {
     "name": "stdout",
     "output_type": "stream",
     "text": [
      "8\n"
     ]
    }
   ],
   "source": [
    "doble = lambda a: a*2\n",
    "print(doble(4))"
   ]
  },
  {
   "cell_type": "code",
   "execution_count": 83,
   "metadata": {},
   "outputs": [],
   "source": [
    "list_num = [1,2,3]\n",
    "\n",
    "resul = list(map(lambda x: x*2, list_num))"
   ]
  }
 ],
 "metadata": {
  "kernelspec": {
   "display_name": "Python 3",
   "language": "python",
   "name": "python3"
  },
  "language_info": {
   "codemirror_mode": {
    "name": "ipython",
    "version": 3
   },
   "file_extension": ".py",
   "mimetype": "text/x-python",
   "name": "python",
   "nbconvert_exporter": "python",
   "pygments_lexer": "ipython3",
   "version": "3.10.13"
  }
 },
 "nbformat": 4,
 "nbformat_minor": 2
}
